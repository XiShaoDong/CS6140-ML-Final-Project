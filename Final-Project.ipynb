{
 "cells": [
  {
   "cell_type": "markdown",
   "id": "69a1c045",
   "metadata": {},
   "source": [
    "## CS6140 Final project \n",
    "### Can Tree-Based Models Always Outperform Neural Networks on Tabular Data?\n",
    "#### Author: Yuxuan Wang and Pranav Sirnapalli"
   ]
  },
  {
   "cell_type": "markdown",
   "id": "c70e8015",
   "metadata": {},
   "source": [
    "## Data Loading and Preprocessing \n"
   ]
  },
  {
   "cell_type": "code",
   "execution_count": null,
   "id": "a75dab94",
   "metadata": {},
   "outputs": [],
   "source": [
    "import numpy as np\n",
    "import pandas as pd\n",
    "from sklearn.model_selection import train_test_split\n",
    "from sklearn.preprocessing import LabelEncoder, StandardScaler\n",
    "from sklearn.datasets import fetch_california_housing\n",
    "\n",
    "# Dowload 'UCI Adult Income' dataset for classification\n",
    "url = \"https://archive.ics.uci.edu/ml/machine-learning-databases/adult/adult.data\"\n",
    "columns = [\n",
    "    \"age\", \"workclass\", \"fnlwgt\", \"education\", \"education-num\",\n",
    "    \"marital-status\", \"occupation\", \"relationship\", \"race\", \"sex\",\n",
    "    \"capital-gain\", \"capital-loss\", \"hours-per-week\", \"native-country\", \"income\"\n",
    "]\n",
    "df = pd.read_csv(url, names=columns, na_values=' ?', skipinitialspace=True)\n",
    "df.dropna(inplace=True)\n",
    "\n",
    "# Label encode + normalization\n",
    "df['income'] = df['income'].apply(lambda x: 1 if x.strip() == '>50K' else 0)\n",
    "for col in df.select_dtypes(include='object').columns.drop('income'):\n",
    "    df[col] = LabelEncoder().fit_transform(df[col])\n",
    "\n",
    "X = df.drop('income', axis=1).values  # transform to numpy\n",
    "y = df['income'].values\n",
    "\n",
    "X = StandardScaler().fit_transform(X)\n",
    "X_train, X_test, y_train, y_test = train_test_split(X, y, stratify=y, test_size=0.2)\n",
    "\n",
    "\n",
    "\n",
    "# Dowload 'California Housing' dataset for regression\n",
    "data = fetch_california_housing()\n",
    "X, y = data.data, data.target\n",
    "\n",
    "X = StandardScaler().fit_transform(X)\n",
    "X_train, X_test, y_train, y_test = train_test_split(X, y, test_size=0.2)\n"
   ]
  },
  {
   "cell_type": "code",
   "execution_count": null,
   "id": "35ca67cd",
   "metadata": {},
   "outputs": [],
   "source": [
    "from sklearn.metrics import root_mean_squared_error , accuracy_score\n",
    "# helper function for evluation\n",
    "def train_and_evaluate_tree_model(X_train, y_train, X_test, y_test, task='classification'):\n",
    "    if task == 'classification':\n",
    "        from sklearn.ensemble import RandomForestClassifier\n",
    "        model = RandomForestClassifier(n_estimators=100)\n",
    "    else:\n",
    "        from sklearn.ensemble import RandomForestRegressor\n",
    "        model = RandomForestRegressor(n_estimators=100)\n",
    "    \n",
    "    model.fit(X_train, y_train)\n",
    "    y_pred = model.predict(X_test)\n",
    "    \n",
    "    if task == 'classification':\n",
    "        acc = accuracy_score(y_test, y_pred)\n",
    "        print(\"Accuracy:\", acc)\n",
    "    else:\n",
    "        rmse = root_mean_squared_error(y_test, y_pred, squared=False)\n",
    "        print(\"RMSE:\", rmse)\n"
   ]
  },
  {
   "cell_type": "markdown",
   "id": "eaf5d5ce",
   "metadata": {},
   "source": [
    "## Part 1: Classification – UCI Adult\n",
    "- Tree: RandomForest / XGBoost\n",
    "- MLP: PyTorch MLPClassifier\n",
    "- Metric: Accuracy / AUC"
   ]
  },
  {
   "cell_type": "code",
   "execution_count": null,
   "id": "71bd1dfd",
   "metadata": {},
   "outputs": [],
   "source": [
    "## Customed Tree model \n"
   ]
  },
  {
   "cell_type": "code",
   "execution_count": null,
   "id": "f5680b86",
   "metadata": {},
   "outputs": [],
   "source": [
    "## Model for MLP(will use library to implement)"
   ]
  },
  {
   "cell_type": "markdown",
   "id": "d49d1263",
   "metadata": {},
   "source": [
    "## Part 2: Regression – California Housing\n",
    "- Tree: RandomForestRegressor / XGBoostRegressor\n",
    "- MLP: PyTorch MLPRegressor\n",
    "- Metric: RMSE / R²"
   ]
  },
  {
   "cell_type": "code",
   "execution_count": null,
   "id": "ba85f71a",
   "metadata": {},
   "outputs": [],
   "source": []
  },
  {
   "cell_type": "code",
   "execution_count": null,
   "id": "003c2cf3",
   "metadata": {},
   "outputs": [],
   "source": []
  }
 ],
 "metadata": {
  "kernelspec": {
   "display_name": "neu-ml",
   "language": "python",
   "name": "python3"
  },
  "language_info": {
   "name": "python",
   "version": "3.9.21"
  }
 },
 "nbformat": 4,
 "nbformat_minor": 5
}
